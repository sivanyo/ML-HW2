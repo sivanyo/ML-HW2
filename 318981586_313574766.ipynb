{
  "nbformat": 4,
  "nbformat_minor": 0,
  "metadata": {
    "colab": {
      "name": "HW2(V3).ipynb",
      "provenance": [],
      "collapsed_sections": []
    },
    "kernelspec": {
      "display_name": "Python 3",
      "name": "python3"
    }
  },
  "cells": [
    {
      "cell_type": "markdown",
      "metadata": {
        "id": "AaWOEIUIMac-"
      },
      "source": [
        "#HW2 - Modeling and Classification"
      ]
    },
    {
      "cell_type": "code",
      "metadata": {
        "id": "4fHDGDO95YGC"
      },
      "source": [
        "import numpy as np\n",
        "import pandas as pd\n",
        "import matplotlib.pyplot as plt\n",
        "import seaborn as sns\n",
        "from google.colab import files"
      ],
      "execution_count": 1,
      "outputs": []
    },
    {
      "cell_type": "markdown",
      "metadata": {
        "id": "tSrPNPidMY3l"
      },
      "source": [
        "## Loading the dataset"
      ]
    },
    {
      "cell_type": "code",
      "metadata": {
        "id": "h8DMSNFkqSg5"
      },
      "source": [
        "train_raw = pd.read_csv('https://raw.githubusercontent.com/sivanyo/ML-HW2/main/train_modify_file.csv')\n",
        "validation_raw = pd.read_csv('https://raw.githubusercontent.com/sivanyo/ML-HW2/main/validation_modify_file%20.csv')\n",
        "test_raw = pd.read_csv('https://raw.githubusercontent.com/sivanyo/ML-HW2/main/train_modify_file.csv')\n",
        "transformation_helper = pd.read_csv('https://raw.githubusercontent.com/sivanyo/ML-HW2/main/transformation_helper%20.csv', index_col=0)\n",
        "virus_test_raw = pd.read_csv('https://raw.githubusercontent.com/sivanyo/ML-HW2/main/virus_test.csv')\n",
        "virus_hw1_file_raw = pd.read_csv('https://raw.githubusercontent.com/sivanyo/ML-HW2/main/virus_hw1.csv')  # used only for debug"
      ],
      "execution_count": 2,
      "outputs": []
    },
    {
      "cell_type": "markdown",
      "metadata": {
        "id": "fi08YoeAnSGP"
      },
      "source": [
        "## Setting the data"
      ]
    },
    {
      "cell_type": "code",
      "metadata": {
        "id": "bVmBUgUWMH0I"
      },
      "source": [
        "targets_col = ['Virus','SpreadLevel', 'Risk']\n",
        "illness_att = ['New_loss_of_taste_or_smell', 'Shortness_of_breath']\n",
        "tmp = ['AgeGroup', 'BMI', 'ConversatiosPerDay', 'DisciplineScore', 'HappinessScore', 'HouseholdExpenseOnPresents', 'HouseholdExpenseOnSocialGames',\n",
        "        'HouseholdExpenseParkingTicketsPerYear', 'MedicalCarePerYear', 'PCR_10',\n",
        "        'PCR_17', 'PCR_19', 'PCR_7', 'PCR_72', 'PCR_76', 'PCR_8', 'PCR_89', 'PCR_9','PCR_93', 'PCR_95',\n",
        "        'StudingPerDay', 'Self_declaration_of_Illness_Form', 'SocialMediaPerDay']\n",
        "\n",
        "original_col = tmp.copy()\n",
        "original_col.extend(targets_col)\n",
        "\n",
        "original_col_with_id_without_targets = ['ID']\n",
        "original_col_with_id_without_targets.extend(tmp)\n",
        "\n",
        "att_col = tmp.copy()\n",
        "att_col.remove('Self_declaration_of_Illness_Form')\n",
        "for illness in illness_att:\n",
        "  att_col.append('Is_having_'+illness)\n",
        "att_col.sort()\n",
        "\n",
        "all_cols = att_col.copy()\n",
        "all_cols.extend(targets_col)\n"
      ],
      "execution_count": 3,
      "outputs": []
    },
    {
      "cell_type": "code",
      "metadata": {
        "id": "k8IyUhN6nR1v"
      },
      "source": [
        "def modify_Self_declaration_of_Illness_Form(ds):\n",
        "  for illness in illness_att:\n",
        "    tmp_col = ds.Self_declaration_of_Illness_Form.apply(lambda row: 0 if type(row) != str or illness not in row  else 0.1)\n",
        "    ds.insert(loc=ds.columns.get_loc('Self_declaration_of_Illness_Form')+1, column=\"Is_having_\" + illness, value=tmp_col.astype(float))\n",
        "  ds.drop('Self_declaration_of_Illness_Form', axis='columns', inplace=True)\n"
      ],
      "execution_count": 4,
      "outputs": []
    },
    {
      "cell_type": "markdown",
      "metadata": {
        "id": "_69q11JO-Jh0"
      },
      "source": [
        "**Data Transformation for unseen data**"
      ]
    },
    {
      "cell_type": "code",
      "metadata": {
        "id": "JuRNcttr_gpk"
      },
      "source": [
        "def filling_missing_data(dataset):\n",
        "  for col_name in ['BMI', 'ConversatiosPerDay', 'DisciplineScore', 'HouseholdExpenseOnPresents','PCR_7', 'PCR_72', 'PCR_89']:\n",
        "    dataset[col_name] = dataset[col_name].fillna(transformation_helper.loc[col_name, 'mean'])\n",
        "\n",
        "  for col_name in ['HappinessScore', 'HouseholdExpenseOnSocialGames','MedicalCarePerYear','PCR_19', 'PCR_95']:\n",
        "    dataset[col_name] = dataset[col_name].fillna(transformation_helper.loc[col_name, 'median'])\n",
        "\n",
        "  return dataset"
      ],
      "execution_count": 5,
      "outputs": []
    },
    {
      "cell_type": "code",
      "metadata": {
        "id": "-Q0ZuOiHAi1Y"
      },
      "source": [
        "def handle_outliers(dataset):\n",
        "  col_list = original_col_with_id_without_targets.copy()\n",
        "  col_list.remove(\"Self_declaration_of_Illness_Form\")\n",
        "  col_list.remove(\"ID\")\n",
        "  for col in col_list:\n",
        "    fence_low  = transformation_helper.loc[col, 'low outlier']\n",
        "    fence_high = transformation_helper.loc[col, 'high outlier']\n",
        "    m = transformation_helper.loc[col, 'median']\n",
        "    dataset[col] = dataset[col].apply(lambda row: m if (pd.isnull(row) or row < fence_low or row > fence_high) else row)\n",
        "  return dataset"
      ],
      "execution_count": 6,
      "outputs": []
    },
    {
      "cell_type": "code",
      "metadata": {
        "id": "XHY9QZD0BGLq"
      },
      "source": [
        "def normalize_all_data(dataset):\n",
        "  col_list = original_col_with_id_without_targets.copy()\n",
        "  col_list.remove(\"Self_declaration_of_Illness_Form\")\n",
        "  col_list.remove(\"ID\")\n",
        "  for col in col_list:\n",
        "    min = transformation_helper.loc[col, 'min']\n",
        "    max = transformation_helper.loc[col, 'max']\n",
        "    dataset[col] = dataset[col].apply(lambda row: (row-min)/(max-min))\n",
        "  return dataset"
      ],
      "execution_count": 7,
      "outputs": []
    },
    {
      "cell_type": "code",
      "metadata": {
        "id": "XVrJyFG1B-nc"
      },
      "source": [
        "def data_transformation(dataset):\n",
        "  dataset = dataset[original_col_with_id_without_targets]\n",
        "  modify_Self_declaration_of_Illness_Form(dataset)\n",
        "  filling_missing_data(dataset)\n",
        "  handle_outliers(dataset)\n",
        "  normalize_all_data(dataset)\n",
        "  return dataset.dropna()"
      ],
      "execution_count": 8,
      "outputs": []
    },
    {
      "cell_type": "code",
      "metadata": {
        "id": "lU89R-LZt7Aj"
      },
      "source": [
        "def initial_set_up(ds):\n",
        "  modify_Self_declaration_of_Illness_Form(ds)\n",
        "  ds = ds[all_cols].dropna()\n",
        "  return ds"
      ],
      "execution_count": 9,
      "outputs": []
    },
    {
      "cell_type": "code",
      "metadata": {
        "id": "Z6igzqTZrQ-p"
      },
      "source": [
        "train = initial_set_up(train_raw.copy()[original_col])\n",
        "validation = initial_set_up(validation_raw.copy()[original_col])\n",
        "test = initial_set_up(test_raw.copy()[original_col])"
      ],
      "execution_count": 10,
      "outputs": []
    },
    {
      "cell_type": "markdown",
      "metadata": {
        "id": "OriT7cJeMzo_"
      },
      "source": [
        "## Part 3 – Classification"
      ]
    },
    {
      "cell_type": "code",
      "metadata": {
        "id": "fHkKbmM4NVag"
      },
      "source": [
        "best_hyperparameter_train = pd.DataFrame(columns = ['Virus_param', 'Virus_accurcy', 'SpreadLevel_param', 'SpreadLevel_accurcy', 'Risk_param', 'Risk_accurcy', 'best_param', 'best_param_accurcy'])\n",
        "best_hyperparameter_train.loc['knn'] = [0, 0, 0, 0, 0, 0, 0, 0]\n",
        "best_hyperparameter_train.loc['decision tree'] = [0, 0, 0, 0, 0, 0, 0, 0]\n",
        "best_hyperparameter_train.loc['svm'] = [0, 0, 0, 0, 0, 0, 0, 0]"
      ],
      "execution_count": 11,
      "outputs": []
    },
    {
      "cell_type": "code",
      "metadata": {
        "id": "PDrtB9vstoye"
      },
      "source": [
        "best_hyperparameter = pd.DataFrame(columns = ['Virus_param', 'Virus_accurcy', 'SpreadLevel_param', 'SpreadLevel_accurcy', 'Risk_param', 'Risk_accurcy', 'best_param', 'best_param_accurcy'])\n",
        "best_hyperparameter.loc['knn'] = [0, 0, 0, 0, 0, 0, 0, 0]\n",
        "best_hyperparameter.loc['decision tree'] = [0, 0, 0, 0, 0, 0, 0, 0]\n",
        "best_hyperparameter.loc['svm'] = [0, 0, 0, 0, 0, 0, 0, 0]\n",
        "# best_hyperparameter"
      ],
      "execution_count": 12,
      "outputs": []
    },
    {
      "cell_type": "code",
      "metadata": {
        "id": "dcTWih8V-iSF"
      },
      "source": [
        "train_examples = train[att_col]\n",
        "train_targets = train[targets_col]\n",
        "\n",
        "validation_examples = validation[att_col]\n",
        "validation_targets = validation[targets_col]\n",
        "\n",
        "test_examples = test[att_col]\n",
        "test_targets = test[targets_col]\n",
        "\n",
        "def do_nothing(*args_list):\n",
        "  return\n",
        "\n",
        "def calc_basic_hist(name, target, param, res, best_params):\n",
        "  if best_params.loc[name][target + '_accurcy'] < res:\n",
        "    best_params.loc[name][target + '_accurcy'] = res\n",
        "    best_params.loc[name][target + '_param'] = param\n",
        "\n",
        "def run_basic_classification(name, classifer_contractor, param_list, scoring_set, scoring_set_targets, best_params, scoring_name, print_flag=True, extra_func=do_nothing):\n",
        "  graphs_data = {\n",
        "    'Virus': [],\n",
        "    'SpreadLevel': [],\n",
        "    'Risk': []\n",
        "  }\n",
        "\n",
        "  best_acc = 0\n",
        "  best_param = 0\n",
        "  for param in param_list:\n",
        "    acc = 0.0\n",
        "    for target in targets_col:\n",
        "      classifer = classifer_contractor(param)\n",
        "      classifer = classifer.fit(train_examples, train_targets[target])\n",
        "      res = classifer.score(scoring_set, scoring_set_targets[target])\n",
        "      acc += res\n",
        "      graphs_data[target].append(res)\n",
        "      extra_func(name, target, param, res, best_params)\n",
        "    if best_acc < acc/3:\n",
        "      best_acc = acc/3\n",
        "      best_param = param\n",
        "  if extra_func == calc_basic_hist and best_params.loc[name]['best_param_accurcy'] < best_acc:\n",
        "    best_params.loc[name]['best_param_accurcy']  = best_acc\n",
        "    best_params.loc[name]['best_param']  = best_param\n",
        "  if print_flag:\n",
        "    x = param_list\n",
        "    [a,b,c] = plt.plot(x, graphs_data['Virus'], '-r', x, graphs_data['SpreadLevel'], '-b', x, graphs_data['Risk'], '-y')\n",
        "    plt.grid()\n",
        "    plt.legend([a,b,c], [\"Virus\",\"SpreadLevel\",\"Risk\"], loc=1)\n",
        "    plt.title(name + ' classification results on ' + scoring_name)\n",
        "    plt.xlabel(\"hyperparameter\")\n",
        "    plt.ylabel(\"accuracy score\")\n",
        "    plt.show()\n",
        "  return best_acc"
      ],
      "execution_count": 13,
      "outputs": []
    },
    {
      "cell_type": "markdown",
      "metadata": {
        "id": "L-cf7CUcUTS5"
      },
      "source": [
        "# KNN\n"
      ]
    },
    {
      "cell_type": "markdown",
      "metadata": {
        "id": "0N4qZ_KXO_gN"
      },
      "source": [
        "**Q2 - accuracies of KNN as function of k param**"
      ]
    },
    {
      "cell_type": "code",
      "metadata": {
        "id": "4wcjhUeBAm9a"
      },
      "source": [
        "from sklearn.neighbors import KNeighborsClassifier\n",
        "\n",
        "run_basic_classification('knn', KNeighborsClassifier, range(1,101), train_examples, train_targets, best_hyperparameter_train ,\"train\", print_flag=True, extra_func=calc_basic_hist)\n",
        "run_basic_classification('knn', KNeighborsClassifier, range(1,101), validation_examples, validation_targets, best_hyperparameter,\"validation\", print_flag=True, extra_func=calc_basic_hist)"
      ],
      "execution_count": null,
      "outputs": []
    },
    {
      "cell_type": "markdown",
      "metadata": {
        "id": "pMLKS6JYUXjJ"
      },
      "source": [
        "# Decsion Tree"
      ]
    },
    {
      "cell_type": "markdown",
      "metadata": {
        "id": "NOwoDqnqPhZZ"
      },
      "source": [
        "**Q6 - accuracies of Decsion Tree as function of t param**"
      ]
    },
    {
      "cell_type": "code",
      "metadata": {
        "id": "8PDaRHbyzyfc"
      },
      "source": [
        "from sklearn import tree\n",
        "\n",
        "def build_DecisionTreeClassifier(param):\n",
        "  return tree.DecisionTreeClassifier(criterion='entropy', max_depth=param)\n",
        "\n",
        "run_basic_classification('decision tree', build_DecisionTreeClassifier, range(2,101), train_examples, train_targets, best_hyperparameter_train, \"train\", print_flag=True, extra_func=calc_basic_hist)\n",
        "run_basic_classification('decision tree', build_DecisionTreeClassifier, range(2,101), validation_examples, validation_targets, best_hyperparameter,\"validation\", print_flag=True, extra_func=calc_basic_hist)"
      ],
      "execution_count": null,
      "outputs": []
    },
    {
      "cell_type": "markdown",
      "metadata": {
        "id": "EH-2TRXaPtOs"
      },
      "source": [
        "**Q8 - confusion matrix**"
      ]
    },
    {
      "cell_type": "code",
      "metadata": {
        "id": "AdwMhFJlQHq8"
      },
      "source": [
        "from sklearn.metrics import plot_confusion_matrix\n",
        "model = tree.DecisionTreeClassifier(criterion='entropy', max_depth=13)\n",
        "model.fit(train_examples, train_targets['Virus'])\n",
        "plot_confusion_matrix(model, validation_examples, validation_targets['Virus'])\n",
        "plt.show()"
      ],
      "execution_count": null,
      "outputs": []
    },
    {
      "cell_type": "markdown",
      "metadata": {
        "id": "-j3gyecLSD52"
      },
      "source": [
        "**Q9 - maximal depth = 7**"
      ]
    },
    {
      "cell_type": "code",
      "metadata": {
        "id": "ZgzsFabcB5CK"
      },
      "source": [
        "from sklearn.tree import plot_tree\n",
        "model = tree.DecisionTreeClassifier(criterion='entropy', max_depth=7)\n",
        "model.fit(train_examples, train_targets['Risk'])\n",
        "fig = plt.figure(figsize=(100, 40))  # large figsize leaves enough room for eveything (no overlap)\n",
        "plot_tree(model,filled=True, feature_names=att_col, class_names = ['low', 'high', 'medium'], fontsize=14)  # set fontsize to be large so that it is readable later.\n",
        "plt.show()"
      ],
      "execution_count": null,
      "outputs": []
    },
    {
      "cell_type": "code",
      "metadata": {
        "id": "9PDDWKH9EQMB"
      },
      "source": [
        "print(train_examples.columns)\n",
        "print(train_examples.columns[6])\n",
        "print(train_examples.columns[10])"
      ],
      "execution_count": null,
      "outputs": []
    },
    {
      "cell_type": "markdown",
      "metadata": {
        "id": "Yi1wmj4FYtEu"
      },
      "source": [
        "**Q10**"
      ]
    },
    {
      "cell_type": "code",
      "metadata": {
        "id": "WvaRgc34CUJB"
      },
      "source": [
        "def show_decision_regions(X, y, pair,param):\n",
        "  classifer = build_DecisionTreeClassifier(best_hyperparameter[param]['decision tree']) \n",
        "\n",
        "  classifer.fit(X, y)\n",
        "\n",
        "  x_min, x_max = X[pair[0]].min() - 1, X[pair[0]].max() + 1\n",
        "  y_min, y_max = X[pair[1]].min() - 1, X[pair[1]].max() + 1\n",
        "  xx, yy = np.meshgrid(np.arange(x_min, x_max, 0.1),\n",
        "                      np.arange(y_min, y_max, 0.1))\n",
        "\n",
        "  f, axarr = plt.subplots(1, 1, sharex='col', sharey='row', figsize=(10, 8))\n",
        "  Z = classifer.predict(np.c_[xx.ravel(), yy.ravel()])\n",
        "  Z = Z.reshape(xx.shape)\n",
        "\n",
        "  axarr.contourf(xx, yy, Z, alpha=0.4)\n",
        "  axarr.scatter(X[pair[0]], X[pair[1]], c=y,\n",
        "                                  s=20, edgecolor='k')\n",
        "  axarr.set_title('Decision Tree')\n",
        "  plt.show()"
      ],
      "execution_count": 19,
      "outputs": []
    },
    {
      "cell_type": "code",
      "metadata": {
        "id": "ZMZV5YETCsxm"
      },
      "source": [
        "pair = [train_examples.columns[6], train_examples.columns[10]]\n",
        "dic_tmp = {'low': 1, 'medium': 2, 'high': 3}\n",
        "\n",
        "y_train_risk = train_targets['Risk'].apply(lambda row : dic_tmp[row])\n",
        "y_validation_risk = validation_targets['Risk'].apply(lambda row : dic_tmp[row])\n",
        "\n",
        "show_decision_regions(train_examples[pair], y_train_risk, pair, 'Risk_param')\n",
        "show_decision_regions(validation_examples[pair], y_validation_risk, pair, 'Risk_param')\n"
      ],
      "execution_count": null,
      "outputs": []
    },
    {
      "cell_type": "markdown",
      "metadata": {
        "id": "59HZuUrOYwio"
      },
      "source": [
        "**Q11 - ROC curve**"
      ]
    },
    {
      "cell_type": "code",
      "metadata": {
        "id": "r_9Z4e8hcZBW"
      },
      "source": [
        "from sklearn import metrics\n",
        "\n",
        "knn = KNeighborsClassifier(best_hyperparameter['SpreadLevel_param']['knn'])\n",
        "knn.fit(train_examples, train_targets['SpreadLevel'].apply(lambda x : 1 if x=='high' else -1))\n",
        "metrics.plot_roc_curve(knn, validation_examples, validation_targets['SpreadLevel'].apply(lambda x : 1 if x=='high' else -1))\n",
        "\n",
        "dt = build_DecisionTreeClassifier(best_hyperparameter['SpreadLevel_param']['decision tree'])\n",
        "dt.fit(train_examples, train_targets['SpreadLevel'].apply(lambda x : 1 if x=='high' else -1))\n",
        "metrics.plot_roc_curve(dt, validation_examples, validation_targets['SpreadLevel'].apply(lambda x : 1 if x=='high' else -1))"
      ],
      "execution_count": null,
      "outputs": []
    },
    {
      "cell_type": "markdown",
      "metadata": {
        "id": "OMubriqPUdpH"
      },
      "source": [
        "# SVM\n"
      ]
    },
    {
      "cell_type": "markdown",
      "metadata": {
        "id": "T7Bh-cBGenSp"
      },
      "source": [
        "**Q13 - accuracies of SVM as a function of C param**"
      ]
    },
    {
      "cell_type": "code",
      "metadata": {
        "id": "7YAg5Jv_FuaZ"
      },
      "source": [
        "from sklearn.svm import LinearSVC\n",
        "\n",
        "def build_LinearSVC(param):\n",
        "  return LinearSVC(random_state=0, C=param) \n",
        "\n",
        "run_basic_classification('svm', build_LinearSVC, np.logspace(0, 3, num=75), train_examples, train_targets, best_hyperparameter_train, \"train\", print_flag=True, extra_func=calc_basic_hist)\n",
        "run_basic_classification('svm', build_LinearSVC, np.logspace(0, 3, num=75), validation_examples, validation_targets, best_hyperparameter,\"validation\", print_flag=True, extra_func=calc_basic_hist)"
      ],
      "execution_count": null,
      "outputs": []
    },
    {
      "cell_type": "code",
      "metadata": {
        "id": "5NMgP9mnIXIu"
      },
      "source": [
        "svm_param = []\n",
        "for col in targets_col:\n",
        "  for i in np.linspace(max(best_hyperparameter.loc['svm'][col + \"_param\"] - 25, 0.001), best_hyperparameter.loc['svm'][col + \"_param\"] + 25, 75):\n",
        "    svm_param.append(i)\n",
        "\n",
        "run_basic_classification('svm', build_LinearSVC, sorted(svm_param), train_examples, train_targets, best_hyperparameter_train, \"train\", print_flag=True, extra_func=calc_basic_hist)\n",
        "run_basic_classification('svm', build_LinearSVC, sorted(svm_param), validation_examples, validation_targets, best_hyperparameter, \"validation\", print_flag=True, extra_func=calc_basic_hist)\n"
      ],
      "execution_count": null,
      "outputs": []
    },
    {
      "cell_type": "code",
      "metadata": {
        "id": "YiphzU0pxlS5"
      },
      "source": [
        "best_hyperparameter_train"
      ],
      "execution_count": null,
      "outputs": []
    },
    {
      "cell_type": "code",
      "metadata": {
        "id": "1D5hm40Kxntt"
      },
      "source": [
        "best_hyperparameter"
      ],
      "execution_count": null,
      "outputs": []
    },
    {
      "cell_type": "markdown",
      "metadata": {
        "id": "tG3Oje9rfPhn"
      },
      "source": [
        "**Q15**"
      ]
    },
    {
      "cell_type": "code",
      "metadata": {
        "id": "q49kwUzoUi0Y"
      },
      "source": [
        "clf = build_LinearSVC(best_hyperparameter['Virus_param']['svm'])"
      ],
      "execution_count": 26,
      "outputs": []
    },
    {
      "cell_type": "code",
      "metadata": {
        "id": "zAUKIFGzYAXo"
      },
      "source": [
        "clf.fit(train_examples, train_targets.Virus)\n",
        "print('w = ',clf.coef_)\n",
        "print(clf.classes_)\n",
        "print(clf.coef_[3])\n",
        "pd.Series(clf.coef_[3], index=att_col).nlargest(10).plot(kind='barh')"
      ],
      "execution_count": null,
      "outputs": []
    },
    {
      "cell_type": "markdown",
      "metadata": {
        "id": "DXo8O814SvyA"
      },
      "source": [
        "**Q 17**"
      ]
    },
    {
      "cell_type": "code",
      "metadata": {
        "id": "WDVSCPAXZaaA"
      },
      "source": [
        "test_basic_results = best_hyperparameter.copy()\n",
        "test_basic_results.drop(['best_param', 'best_param_accurcy'], axis='columns', inplace=True)\n",
        "\n",
        "test_examples = test[att_col]\n",
        "test_targets = test[targets_col]\n",
        "\n",
        "def fill_test_basic_results(name, classifer_contractor):\n",
        "  for target in targets_col:\n",
        "    classifer = classifer_contractor(best_hyperparameter.loc[name][target + '_param'])\n",
        "    classifer = classifer.fit(train_examples, train_targets[target])\n",
        "    test_basic_results.loc[name][target + '_accurcy'] = classifer.score(test_examples, test_targets[target])\n",
        "\n",
        "fill_test_basic_results('knn', KNeighborsClassifier)\n",
        "fill_test_basic_results('decision tree', build_DecisionTreeClassifier)\n",
        "fill_test_basic_results('svm', build_LinearSVC)\n",
        "\n",
        "test_basic_results"
      ],
      "execution_count": null,
      "outputs": []
    },
    {
      "cell_type": "markdown",
      "metadata": {
        "id": "99ClHRhPFvwS"
      },
      "source": [
        "## Part 5 – Non-Linear SVM"
      ]
    },
    {
      "cell_type": "code",
      "metadata": {
        "id": "GnjAcWSQF0TR"
      },
      "source": [
        "train_p5 = train[ train.Virus.isin(['covid', 'cmv'])][['PCR_7', 'PCR_72', 'PCR_89', 'Virus']].copy()\n",
        "train_p5.Virus = train_p5.Virus == 'cmv'  # Virus is actually Is_cmv_or_covid"
      ],
      "execution_count": 29,
      "outputs": []
    },
    {
      "cell_type": "code",
      "metadata": {
        "id": "O5suHhLsK8KE"
      },
      "source": [
        "validation_p5 = validation[ validation.Virus.isin(['covid', 'cmv'])][['PCR_7', 'PCR_72', 'PCR_89', 'Virus']].copy()\n",
        "validation_p5.Virus = validation_p5.Virus == 'cmv'  # Virus is actually Is_cmv_or_covid"
      ],
      "execution_count": 30,
      "outputs": []
    },
    {
      "cell_type": "markdown",
      "metadata": {
        "id": "uSUYGM-SjqSj"
      },
      "source": [
        "**Q20**"
      ]
    },
    {
      "cell_type": "code",
      "metadata": {
        "id": "033Doaz0JtRO"
      },
      "source": [
        "fig = plt.figure()\n",
        "ax = fig.add_subplot(projection='3d')\n",
        "\n",
        "c = train_p5.Virus\n",
        "\n",
        "img = ax.scatter(train_p5.PCR_7, train_p5.PCR_72, train_p5.PCR_89, c=train_p5.Virus, cmap='RdBu')\n",
        "ax.set_xlabel('PCR_7')\n",
        "ax.set_ylabel('PCR_72')\n",
        "ax.set_zlabel('PCR_89')\n",
        "plt.title('covid \\ cmv (PCR: 7, 72, 89)')\n",
        "# ax.view_init(90,0)\n",
        "# ax.view_init(90,0)\n",
        "fig = plt.gcf()\n",
        "plt.show()"
      ],
      "execution_count": null,
      "outputs": []
    },
    {
      "cell_type": "code",
      "metadata": {
        "id": "JickiifBV0fx"
      },
      "source": [
        "ax.view_init(90,0)\n",
        "fig"
      ],
      "execution_count": null,
      "outputs": []
    },
    {
      "cell_type": "code",
      "metadata": {
        "id": "iOMm0ilHY26F"
      },
      "source": [
        "ax.view_init(0,90)\n",
        "fig"
      ],
      "execution_count": null,
      "outputs": []
    },
    {
      "cell_type": "code",
      "metadata": {
        "id": "o5IzJWHdY2rO"
      },
      "source": [
        "ax.view_init(45,45)\n",
        "fig"
      ],
      "execution_count": null,
      "outputs": []
    },
    {
      "cell_type": "code",
      "metadata": {
        "id": "DbQRVI9bY2oU"
      },
      "source": [
        "ax.view_init(120,30)\n",
        "fig"
      ],
      "execution_count": null,
      "outputs": []
    },
    {
      "cell_type": "code",
      "metadata": {
        "id": "A6QRqMJEqywn"
      },
      "source": [
        "from sklearn.svm import SVC\n",
        "kernels_test = pd.DataFrame(columns = ['kernel', 'C / C+degree', 'accurcy'])\n",
        "for ker in ['rbf', 'sigmoid']:\n",
        "  for c in np.linspace(0.05, 15, 150):\n",
        "    classifer = SVC(kernel=ker, C=c)\n",
        "    classifer.fit(train_p5[train_p5.columns[:-1]], train_p5.Virus)\n",
        "    res = classifer.score(validation_p5[validation_p5.columns[:-1]], validation_p5.Virus)\n",
        "    kernels_test = kernels_test.append({'kernel' : ker, 'C / C+degree': c, 'accurcy':res}, ignore_index=True)\n",
        "\n",
        "for deg in range(1,4):  \n",
        "    for c in np.linspace(0.05, 15, 50):\n",
        "      classifer = SVC(kernel='poly', degree=deg, C=c)\n",
        "      classifer.fit(train_p5[train_p5.columns[:-1]], train_p5.Virus)\n",
        "      res = classifer.score(validation_p5[validation_p5.columns[:-1]], validation_p5.Virus)\n",
        "      kernels_test = kernels_test.append({'kernel' : 'poly','C / C+degree': str(c) +\"+\"+str(deg), 'accurcy':res}, ignore_index=True)\n",
        "\n",
        "kernels_test.sort_values(['accurcy', 'C / C+degree'] , ascending=[False, True], inplace=True)\n",
        "kernels_test.head(10)  # best params"
      ],
      "execution_count": null,
      "outputs": []
    },
    {
      "cell_type": "code",
      "metadata": {
        "id": "aQp6nlS-xG1R"
      },
      "source": [
        "kernels_test"
      ],
      "execution_count": null,
      "outputs": []
    },
    {
      "cell_type": "code",
      "metadata": {
        "id": "86LohApVn_6z"
      },
      "source": [
        "only_rbf = kernels_test[kernels_test['kernel'] == 'rbf']\n",
        "\n",
        "only_rbf.sort_values('C / C+degree',ascending=False, inplace=True)\n",
        "only_rbf\n",
        "\n",
        "# with pd.option_context('display.max_rows', None, 'display.max_columns', None):  # more options can be specified also\n",
        "#     print(only_rbf)"
      ],
      "execution_count": null,
      "outputs": []
    },
    {
      "cell_type": "markdown",
      "metadata": {
        "id": "bqkEpKOUzHGC"
      },
      "source": [
        "**Q22**"
      ]
    },
    {
      "cell_type": "markdown",
      "metadata": {
        "id": "lkmRDT_yqogg"
      },
      "source": [
        "rbf kernel is the best.\n",
        "create a plot that shows the connection between hyperparameters to accurcy\n",
        "\n",
        "\n"
      ]
    },
    {
      "cell_type": "code",
      "metadata": {
        "id": "kLZwG1zBX9H4"
      },
      "source": [
        "graphs_data = []\n",
        "\n",
        "for c in np.linspace(0.05, 15, 150):\n",
        "  classifer = SVC(kernel='rbf', C=c)\n",
        "  classifer.fit(train_p5[train_p5.columns[:-1]], train_p5.Virus)\n",
        "  res = classifer.score(train_p5[validation_p5.columns[:-1]], train_p5.Virus)\n",
        "  graphs_data.append(res)\n",
        "x = np.linspace(0.05, 15, 150)\n",
        "x = x.tolist()\n",
        "plt.plot(x, graphs_data, '-y')\n",
        "plt.grid()\n",
        "# plt.legend([a,b,c], [1,2,3], loc=1)\n",
        "plt.title('classification results on train')\n",
        "plt.xlabel(\"hyperparameter (c)\")\n",
        "plt.ylabel(\"accuracy score\")\n",
        "plt.show()"
      ],
      "execution_count": null,
      "outputs": []
    },
    {
      "cell_type": "code",
      "metadata": {
        "id": "CNCNAS1nu8mF"
      },
      "source": [
        "graphs_data = []\n",
        "\n",
        "for c in np.linspace(0.05, 15, 150):\n",
        "  classifer = SVC(kernel='rbf', C=c)\n",
        "  classifer.fit(train_p5[train_p5.columns[:-1]], train_p5.Virus)\n",
        "  res = classifer.score(validation_p5[validation_p5.columns[:-1]], validation_p5.Virus)\n",
        "  graphs_data.append(res)\n",
        "x = np.linspace(0.05, 15, 150)\n",
        "x = x.tolist()\n",
        "plt.plot(x, graphs_data, '-b')\n",
        "plt.grid()\n",
        "# plt.legend([a,b,c], [1,2,3], loc=1)\n",
        "plt.title('classification results on validation')\n",
        "plt.xlabel(\"hyperparameter (c)\")\n",
        "plt.ylabel(\"accuracy score\")\n",
        "plt.show()"
      ],
      "execution_count": null,
      "outputs": []
    },
    {
      "cell_type": "code",
      "metadata": {
        "id": "d7gn-WR7sAii"
      },
      "source": [
        "best_rbf = pd.DataFrame(columns = ['Virus_accurcy','SpreadLevel_accurcy', 'Risk_accurcy'])\n",
        "best_rbf.loc['rbf'] = [0, 0, 0]"
      ],
      "execution_count": 41,
      "outputs": []
    },
    {
      "cell_type": "markdown",
      "metadata": {
        "id": "vdqdqy3DtJIH"
      },
      "source": [
        "**Q23**"
      ]
    },
    {
      "cell_type": "code",
      "metadata": {
        "id": "_3lxOy3ZYijO"
      },
      "source": [
        "classifer = SVC(kernel='rbf', C=kernels_test.iloc[0]['C / C+degree'])\n",
        "\n",
        "classifer.fit(train_examples, train_targets.Virus)\n",
        "best_rbf['Virus_accurcy'] = classifer.score(train_examples, train_targets.Virus)\n",
        "\n",
        "classifer.fit(train_examples, train_targets.SpreadLevel)\n",
        "best_rbf['SpreadLevel_accurcy'] = classifer.score(train_examples, train_targets.SpreadLevel)\n",
        "\n",
        "classifer.fit(train_examples, train_targets.Risk)\n",
        "best_rbf['Risk_accurcy'] = classifer.score(train_examples, train_targets.Risk)\n",
        "\n",
        "best_rbf"
      ],
      "execution_count": null,
      "outputs": []
    },
    {
      "cell_type": "code",
      "metadata": {
        "id": "ykeLJ3nhrxfC"
      },
      "source": [
        "classifer = SVC(kernel='rbf',  C=kernels_test.iloc[0]['C / C+degree'])\n",
        "\n",
        "classifer.fit(train_examples, train_targets.Virus)\n",
        "best_rbf['Virus_accurcy'] = classifer.score(validation_examples, validation_targets.Virus)\n",
        "\n",
        "classifer.fit(train_examples, train_targets.SpreadLevel)\n",
        "best_rbf['SpreadLevel_accurcy'] = classifer.score(validation_examples, validation_targets.SpreadLevel)\n",
        "\n",
        "classifer.fit(train_examples, train_targets.Risk)\n",
        "best_rbf['Risk_accurcy'] = classifer.score(validation_examples, validation_targets.Risk)\n",
        "\n",
        "best_rbf"
      ],
      "execution_count": null,
      "outputs": []
    },
    {
      "cell_type": "markdown",
      "metadata": {
        "id": "j9yCxfutdlAn"
      },
      "source": [
        "# **Experimenting**"
      ]
    },
    {
      "cell_type": "code",
      "metadata": {
        "id": "MN42lUQBC-3X"
      },
      "source": [
        "all_examples_data = pd.concat([train, validation, test], ignore_index=True)\n",
        "all_examples_data"
      ],
      "execution_count": null,
      "outputs": []
    },
    {
      "cell_type": "code",
      "metadata": {
        "id": "3mMkbZCyuYRW"
      },
      "source": [
        "def run_general_classification(name, classifer_contractor, param_list, df_train, df_test, atts, targets, more_options=True, extra_func=do_nothing):\n",
        "  # print(atts)\n",
        "  for target in targets:\n",
        "    for param in param_list:\n",
        "      classifer = classifer_contractor(param)\n",
        "      classifer = classifer.fit(df_train[atts], df_train[target])\n",
        "      res = classifer.score(df_test[atts], df_test[target])\n",
        "      extra_func(name, target, param, res)"
      ],
      "execution_count": 45,
      "outputs": []
    },
    {
      "cell_type": "code",
      "metadata": {
        "id": "IOnqdRd_YEOB"
      },
      "source": [
        "best_hyperparameter2 = pd.DataFrame(columns = ['Virus_param', 'Virus_accurcy', 'SpreadLevel_param', 'SpreadLevel_accurcy', 'Risk_param', 'Risk_accurcy'])\n",
        "\n",
        "def create_best_hyperparameter2_hist():\n",
        "  for tmp in ['knn', 'decision tree', 'svm']:\n",
        "    for i in range(1, 6):\n",
        "      best_hyperparameter2.loc[tmp+\"(\"+str(i)+\")\"] = [0, 0, 0, 0, 0, 0]\n",
        "create_best_hyperparameter2_hist()"
      ],
      "execution_count": 46,
      "outputs": []
    },
    {
      "cell_type": "code",
      "metadata": {
        "id": "xmUgax04oUjo"
      },
      "source": [
        "def hist_classification_results(name, target, param, res):\n",
        "  for i in range(1,6):\n",
        "    if best_hyperparameter2.loc[name+\"(\"+str(i)+\")\"][target+\"_accurcy\"] < res:\n",
        "      for j in range(5,i, -1):\n",
        "        best_hyperparameter2.loc[name+\"(\"+str(j)+\")\"][target+\"_param\"] = best_hyperparameter2.loc[name+\"(\"+str(j-1)+\")\"][target+\"_param\"]\n",
        "        best_hyperparameter2.loc[name+\"(\"+str(j)+\")\"][target+\"_accurcy\"] = best_hyperparameter2.loc[name+\"(\"+str(j-1)+\")\"][target+\"_accurcy\"]\n",
        "      best_hyperparameter2.loc[name+\"(\"+str(i)+\")\"][target+\"_param\"] = param\n",
        "      best_hyperparameter2.loc[name+\"(\"+str(i)+\")\"][target+\"_accurcy\"] = res\n",
        "      return"
      ],
      "execution_count": 47,
      "outputs": []
    },
    {
      "cell_type": "code",
      "metadata": {
        "id": "0YR4BTnOo9jE"
      },
      "source": [
        "kfold_tmp = {}\n",
        "\n",
        "def kfold_fill_hist_results(name, target, param, res):\n",
        "  key = str(name) + \"-\" + str(target) + \"-\" + str(param)\n",
        "  if key not in kfold_tmp:\n",
        "    kfold_tmp[key] = [0,0]\n",
        "\n",
        "  kfold_tmp[key][1] += res\n",
        "  kfold_tmp[key][0] += 1\n",
        "  if kfold_tmp[key][0] == 5:\n",
        "    hist_classification_results(name, target, param, kfold_tmp[key][1]/5)"
      ],
      "execution_count": 48,
      "outputs": []
    },
    {
      "cell_type": "code",
      "metadata": {
        "id": "bk4MuzrVS2va"
      },
      "source": [
        "from sklearn.model_selection import KFold\n",
        "\n",
        "def run_cross_validation(df, atts, targets):\n",
        "  print(atts)\n",
        "  kfold_tmp.clear()\n",
        "  create_best_hyperparameter2_hist()\n",
        "  cross_group = KFold(n_splits=5, shuffle=True, random_state=1234567)\n",
        "  cross_group.get_n_splits(df)\n",
        "  for train_index, test_index in cross_group.split(df):\n",
        "    train_set = df.loc[train_index]\n",
        "    test_set = df.loc[test_index]\n",
        "    att_col2 = atts\n",
        "    targets_col2 = targets\n",
        "    run_general_classification(\"knn\", KNeighborsClassifier, range(3,30), train_set, test_set, atts, targets, more_options=True, extra_func=kfold_fill_hist_results)\n",
        "    run_general_classification(\"decision tree\", build_DecisionTreeClassifier, range(1,50), train_set, test_set, atts, targets, more_options=True, extra_func=kfold_fill_hist_results)\n",
        "    # run_general_classification(\"svm\", build_LinearSVC, np.linspace(0.0001, 4, 40), train_set, test_set, atts, targets, more_options=True, extra_func=kfold_fill_hist_results)\n",
        "    # run_general_classification(\"svm\", build_LinearSVC, np.linspace(25, 65, 80), train_set, test_set, atts, targets, more_options=True, extra_func=kfold_fill_hist_results)\n",
        "    # this is what we uselly run to tune svm hyperparameter but it take couple of minutes... \n",
        "    # in order to run it faster we run only part of the hyperparameter range, focus on the range which we saw that are the best\n",
        "    run_general_classification(\"svm\", build_LinearSVC, np.linspace(2, 4, 10), train_set, test_set, atts, targets, more_options=True, extra_func=kfold_fill_hist_results)\n",
        "    run_general_classification(\"svm\", build_LinearSVC, np.linspace(44, 46, 10), train_set, test_set, atts, targets, more_options=True, extra_func=kfold_fill_hist_results)\n",
        "  # print(best_hyperparameter2)\n",
        "  return best_hyperparameter2"
      ],
      "execution_count": 49,
      "outputs": []
    },
    {
      "cell_type": "code",
      "metadata": {
        "id": "GOZgN2DIigW0"
      },
      "source": [
        "run_cross_validation(df=all_examples_data, atts=att_col, targets=targets_col)\n",
        "best_hyperparameter2"
      ],
      "execution_count": null,
      "outputs": []
    },
    {
      "cell_type": "markdown",
      "metadata": {
        "id": "ijGEn1kk_GLG"
      },
      "source": [
        "**more experiments that help us in the process of understanding the task but we did not use in our final report**"
      ]
    },
    {
      "cell_type": "code",
      "metadata": {
        "id": "am7EcrS5qH_G"
      },
      "source": [
        "# def highlighting_important_features(dataset, alpha):\n",
        " \n",
        "#   most_important_features = ['BMI', 'ConversatiosPerDay', 'DisciplineScore',  'HappinessScore', 'HouseholdExpenseOnPresents','HouseholdExpenseOnSocialGames',\n",
        "#                              'MedicalCarePerYear', 'PCR_10', 'PCR_17', 'PCR_19', 'SocialMediaPerDay', 'PCR_8', 'PCR_72', \n",
        "#                              'PCR_10', 'PCR_95', 'PCR_76', 'PCR_7', 'PCR_9', 'PCR_89', 'PCR_19', 'PCR_93']\n",
        "#   for col in most_important_features:\n",
        "#     dataset[col] = dataset[col]*alpha\n",
        "  \n",
        "#   return dataset\n",
        "\n",
        "\n",
        "# def tuning_features(dataset):  \n",
        "#   dataset['AgeGroup'] = dataset['AgeGroup']*0.235\n",
        "#   dataset['BMI'] = dataset['BMI']*2.45\n",
        "#   dataset['HouseholdExpenseOnSocialGames'] = dataset['HouseholdExpenseOnSocialGames']*2.9\n",
        "#   dataset['PCR_89'] = dataset['PCR_89']*3\n",
        "  \n",
        "#   return dataset"
      ],
      "execution_count": 51,
      "outputs": []
    },
    {
      "cell_type": "code",
      "metadata": {
        "id": "5ZMVfGSWx74S"
      },
      "source": [
        "# best_res = 0\n",
        "# best_combination = \"\"\n",
        "\n",
        "# for att in [\"AgeGroup\", \"BMI\", \"HouseholdExpenseOnSocialGames\", 'PCR_89']:\n",
        "#   for alpha in [0.5, 1.5, 2.5]:\n",
        "#     train_copy = train.copy()\n",
        "#     validation_copy = validation.copy()\n",
        "\n",
        "#     validation_targets = validation_copy[targets_col]\n",
        "#     train_targets = train[targets_col]\n",
        "\n",
        "#     train_copy[att] = train[att]*alpha\n",
        "#     validation_copy[att] = validation[att]*alpha\n",
        "\n",
        "#     validation_examples = validation_copy[att_col]\n",
        "#     train_examples = train_copy[att_col]\n",
        "\n",
        "#     for tar in targets_col:\n",
        "#       classifer = KNeighborsClassifier(12)\n",
        "#       classifer = classifer.fit(train_examples, train_targets[tar])\n",
        "#       res = classifer.score(validation_examples, validation_targets[tar])\n",
        "#       print(str(att) + \": \" + str(alpha) + \": \" + tar +\": res: \" + str(res))\n"
      ],
      "execution_count": 52,
      "outputs": []
    },
    {
      "cell_type": "code",
      "metadata": {
        "id": "5GlRpUN-yk8O"
      },
      "source": [
        "# check_att = ['ID', 'AgeGroup', 'BMI', 'BloodType',\n",
        "#        'ConversatiosPerDay', 'x_location', 'y_location',\n",
        "#        'MonthOfPCRTest', 'DisciplineScore', 'HappinessScore',\n",
        "#        'HouseholdExpenseOnPresents', 'HouseholdExpenseOnSocialGames',\n",
        "#        'HouseholdExpenseParkingTicketsPerYear', 'TicketsPerYearGroup',\n",
        "#        'MedicalCarePerYear', 'PCR_10', 'PCR_17', 'PCR_19', 'PCR_32', 'PCR_45',\n",
        "#        'PCR_46', 'PCR_7', 'PCR_72', 'PCR_76', 'PCR_8', 'PCR_89', 'PCR_9',\n",
        "#        'PCR_93', 'PCR_95',\n",
        "#        'Is_having_Chills', 'Is_having_Congestion_or_runny nose',\n",
        "#        'Is_having_Low_appetite', 'Is_having_Diarrhea', 'Is_having_Cough',\n",
        "#        'Is_having_Fever', 'Is_having_Skin_redness',\n",
        "#        'Is_having_Shortness_of_breath', 'Is_having_Fatigue',\n",
        "#        'Is_having_New_loss_of_taste_or_smell', 'Is_having_Nausea_or_vomiting',\n",
        "#        'Is_having_Sore_throat', 'Is_having_Headache',\n",
        "#        'Is_having_Muscle_or_body_aches', 'Sex', 'SocialMediaPerDay',\n",
        "#        'StudingPerDay']\n",
        "# all_raw_data = pd.concat([train_raw, validation_raw, test_raw], ignore_index=True)\n",
        "# tmp = check_att.copy()\n",
        "# tmp.extend(targets_col)\n",
        "# all_raw_data = all_raw_data[tmp].copy()\n",
        "# all_raw_data"
      ],
      "execution_count": 53,
      "outputs": []
    },
    {
      "cell_type": "code",
      "metadata": {
        "id": "PorH5AlPHUEW"
      },
      "source": [
        "# for col in check_att:\n",
        "#   if col not in att_col:\n",
        "#     tmp = att_col.copy()\n",
        "#     tmp.append(col)\n",
        "#     print(\"checking about adding \" + str(col))\n",
        "#     res = run_cross_validation(df=all_raw_data, atts=tmp, targets=targets_col)\n",
        "#     print(\"knn: virus \" + str(res['Virus_accurcy']['knn(1)']) + \" , spreadlevel \" + str(res['SpreadLevel_accurcy']['knn(1)']) + \" , risk \" + str(res['Risk_accurcy']['knn(1)']))\n",
        "#     print(\"decision tree: virus \" + str(res['Virus_accurcy']['decision tree(1)']) + \" , spreadlevel \" + str(res['SpreadLevel_accurcy']['decision tree(1)']) + \" , risk \" + str(res['Risk_accurcy']['decision tree(1)']))\n",
        "#     print(\"linear svm: virus \" + str(res['Virus_accurcy']['linear svm(1)']) + \" , spreadlevel \" + str(res['SpreadLevel_accurcy']['linear svm(1)']) + \" , risk \" + str(res['Risk_accurcy']['linear svm(1)']))\n",
        "#     print(res)"
      ],
      "execution_count": 54,
      "outputs": []
    },
    {
      "cell_type": "code",
      "metadata": {
        "id": "9OxI2CR-EipN"
      },
      "source": [
        "# for att in att_col:\n",
        "#   tmp = [att]\n",
        "#   print(\"checking score only for \" + str(att))\n",
        "#   res = run_cross_validation(df=all_raw_data, atts=tmp, targets=targets_col)\n",
        "#   virus_score = res['Virus_accurcy']['knn(1)'] + res['Virus_accurcy']['decision tree(1)'] + res['Virus_accurcy']['linear svm(1)']\n",
        "#   spread_score = res['SpreadLevel_accurcy']['knn(1)'] + res['SpreadLevel_accurcy']['decision tree(1)'] + res['SpreadLevel_accurcy']['linear svm(1)']\n",
        "#   risk_score = res['Risk_accurcy']['knn(1)'] + res['Risk_accurcy']['decision tree(1)'] + res['Risk_accurcy']['linear svm(1)']\n",
        "#   avg_score = (virus_score + spread_score + risk_score)/3\n",
        "#   each_att_targets_score.loc[att] = [virus_score, spread_score, risk_score, avg_score]\n",
        "\n",
        "#   knn_score = res['Virus_accurcy']['knn(1)'] + res['SpreadLevel_accurcy']['knn(1)'] + res['Risk_accurcy']['knn(1)']\n",
        "#   dt_score = res['Virus_accurcy']['decision tree(1)'] + res['SpreadLevel_accurcy']['decision tree(1)'] + res['Risk_accurcy']['decision tree(1)']\n",
        "#   svm_score = res['Virus_accurcy']['linear svm(1)'] + res['SpreadLevel_accurcy']['linear svm(1)'] + res['Risk_accurcy']['linear svm(1)']\n",
        "#   avg_score = (knn_score + dt_score + svm_score)/3\n",
        "#   each_att_classifer_score.loc[att] = [knn_score, dt_score, svm_score, avg_score]"
      ],
      "execution_count": 55,
      "outputs": []
    },
    {
      "cell_type": "code",
      "metadata": {
        "id": "KR2BZwE30ttg"
      },
      "source": [
        "# for att in att_col:\n",
        "#   best_alpha = 0\n",
        "#   best_acc = 0\n",
        "#   for alpha in np.linspace(0.1, 3.5, 20):\n",
        "#     train_copy = train.copy()\n",
        "#     validation_copy = validation.copy()\n",
        "#     train_copy[att] = train_copy[att]*alpha\n",
        "#     validation_copy[att] = validation_copy[att]*alpha\n",
        "\n",
        "#     validation_examples = validation_copy[att_col]\n",
        "#     validation_targets = validation_copy[targets_col]\n",
        "\n",
        "#     train_examples = train_copy[att_col]\n",
        "#     train_targets = train_copy[targets_col]\n",
        "\n",
        "#     print(\"att: \" + att + \", alpha: \" + str(alpha))\n",
        "#     res = run_basic_classification('knn', KNeighborsClassifier, range(4,20))\n",
        "#     if res > best_acc:\n",
        "#       best_acc = res\n",
        "#       best_alpha = alpha\n",
        "#   print(\"@@@ best alpha for \" + att + \" is: ~\" + str(best_alpha) + \" with avg accurcy of \" + str(best_acc))\n"
      ],
      "execution_count": 56,
      "outputs": []
    },
    {
      "cell_type": "markdown",
      "metadata": {
        "id": "G2pDwD0Vd5EG"
      },
      "source": [
        "# Part 6 - Bonuses"
      ]
    },
    {
      "cell_type": "code",
      "metadata": {
        "id": "Egtuf8kOmY7W"
      },
      "source": [
        "final_train = pd.concat([train, validation, test])[all_cols]\n",
        "final_train = final_train.dropna()\n",
        "\n",
        "pd.options.mode.chained_assignment = None  # default='warn'\n",
        "test_hw2 = data_transformation(virus_test_raw.copy())\n",
        "pd.options.mode.chained_assignment = 'warn'\n",
        "test_hw2"
      ],
      "execution_count": null,
      "outputs": []
    },
    {
      "cell_type": "code",
      "metadata": {
        "colab": {
          "base_uri": "https://localhost:8080/",
          "height": 17
        },
        "id": "zt26mEgjd28t",
        "outputId": "be486d13-10ec-4cc8-97a0-fbe38612cfd9"
      },
      "source": [
        "bonusDF = pd.DataFrame(index=np.arange(test_hw2.shape[0]), columns = ['ID', 'Virus', 'SpreadLevel', 'Risk'])\n",
        "bonusDF['ID'] = test_hw2['ID']\n",
        "\n",
        "dt_virus_classifier = build_DecisionTreeClassifier(best_hyperparameter2['Virus_param'][\"decision tree(1)\"])\n",
        "dt_virus_classifier.fit(final_train[att_col], final_train['Virus'])\n",
        "bonusDF['Virus'] = dt_virus_classifier.predict(test_hw2[att_col])\n",
        "\n",
        "dt_spreadLevel_classifier = build_DecisionTreeClassifier(best_hyperparameter2['SpreadLevel_param'][\"decision tree(1)\"])\n",
        "dt_spreadLevel_classifier.fit(final_train[att_col], final_train['SpreadLevel'])\n",
        "bonusDF['SpreadLevel'] = dt_spreadLevel_classifier.predict(test_hw2[att_col])\n",
        "\n",
        "dt_risk_classifier = build_DecisionTreeClassifier(best_hyperparameter2['Risk_param'][\"decision tree(1)\"])\n",
        "dt_risk_classifier.fit(final_train[att_col], final_train['Risk'])\n",
        "bonusDF['Risk'] = dt_spreadLevel_classifier.predict(test_hw2[att_col])\n",
        "\n",
        "bonusDF.to_csv(\"pred_custom.csv\", index=False)\n",
        "files.download(\"pred_custom.csv\")"
      ],
      "execution_count": 58,
      "outputs": [
        {
          "output_type": "display_data",
          "data": {
            "application/javascript": [
              "\n",
              "    async function download(id, filename, size) {\n",
              "      if (!google.colab.kernel.accessAllowed) {\n",
              "        return;\n",
              "      }\n",
              "      const div = document.createElement('div');\n",
              "      const label = document.createElement('label');\n",
              "      label.textContent = `Downloading \"${filename}\": `;\n",
              "      div.appendChild(label);\n",
              "      const progress = document.createElement('progress');\n",
              "      progress.max = size;\n",
              "      div.appendChild(progress);\n",
              "      document.body.appendChild(div);\n",
              "\n",
              "      const buffers = [];\n",
              "      let downloaded = 0;\n",
              "\n",
              "      const channel = await google.colab.kernel.comms.open(id);\n",
              "      // Send a message to notify the kernel that we're ready.\n",
              "      channel.send({})\n",
              "\n",
              "      for await (const message of channel.messages) {\n",
              "        // Send a message to notify the kernel that we're ready.\n",
              "        channel.send({})\n",
              "        if (message.buffers) {\n",
              "          for (const buffer of message.buffers) {\n",
              "            buffers.push(buffer);\n",
              "            downloaded += buffer.byteLength;\n",
              "            progress.value = downloaded;\n",
              "          }\n",
              "        }\n",
              "      }\n",
              "      const blob = new Blob(buffers, {type: 'application/binary'});\n",
              "      const a = document.createElement('a');\n",
              "      a.href = window.URL.createObjectURL(blob);\n",
              "      a.download = filename;\n",
              "      div.appendChild(a);\n",
              "      a.click();\n",
              "      div.remove();\n",
              "    }\n",
              "  "
            ],
            "text/plain": [
              "<IPython.core.display.Javascript object>"
            ]
          },
          "metadata": {
            "tags": []
          }
        },
        {
          "output_type": "display_data",
          "data": {
            "application/javascript": [
              "download(\"download_f40f57db-7657-441a-a0d4-ee3ed1da0d3b\", \"pred_custom.csv\", 13738)"
            ],
            "text/plain": [
              "<IPython.core.display.Javascript object>"
            ]
          },
          "metadata": {
            "tags": []
          }
        }
      ]
    },
    {
      "cell_type": "markdown",
      "metadata": {
        "id": "dlwkK1mTBnpt"
      },
      "source": [
        "# Part 7"
      ]
    },
    {
      "cell_type": "markdown",
      "metadata": {
        "id": "jfpI18BvBvcS"
      },
      "source": [
        "**create output files**"
      ]
    },
    {
      "cell_type": "code",
      "metadata": {
        "id": "hV0Z4LFp2AK1"
      },
      "source": [
        "best_hyperparameter2\n",
        "# from here we choose the best param for each classifer and target"
      ],
      "execution_count": null,
      "outputs": []
    },
    {
      "cell_type": "code",
      "metadata": {
        "id": "XF-u8mmx_NxF"
      },
      "source": [
        "virus_test = virus_test_raw.copy()\n",
        "virus_test"
      ],
      "execution_count": null,
      "outputs": []
    },
    {
      "cell_type": "code",
      "metadata": {
        "id": "52e3m6zR-wNO"
      },
      "source": [
        "final_train = pd.concat([train, validation, test])[all_cols]\n",
        "final_train = final_train.dropna()\n",
        "final_train"
      ],
      "execution_count": null,
      "outputs": []
    },
    {
      "cell_type": "code",
      "metadata": {
        "id": "_oDSCkYW_779"
      },
      "source": [
        "# transformation_helper"
      ],
      "execution_count": 62,
      "outputs": []
    },
    {
      "cell_type": "code",
      "metadata": {
        "id": "dGP7D07VzQ6f"
      },
      "source": [
        "pd.options.mode.chained_assignment = None  # default='warn'\n",
        "test_hw2 = data_transformation(virus_test.copy())\n",
        "pd.options.mode.chained_assignment = 'warn'\n",
        "test_hw2"
      ],
      "execution_count": null,
      "outputs": []
    },
    {
      "cell_type": "code",
      "metadata": {
        "id": "IrpyuiQTIB-7"
      },
      "source": [
        "def predict_per_target(virus_classifier,spreadLevel_classifier, risk_classifier , df, id):\n",
        "  final = pd.DataFrame(index=np.arange(df.shape[0]), columns = ['ID', 'Virus', 'SpreadLevel', 'Risk'])\n",
        "  final['Virus'] = virus_classifier.predict(df[att_col])\n",
        "  final['SpreadLevel'] = spreadLevel_classifier.predict(df[att_col])\n",
        "  final['Risk'] = risk_classifier.predict(df[att_col])\n",
        "  final['ID'] = id\n",
        "  return final            "
      ],
      "execution_count": 64,
      "outputs": []
    },
    {
      "cell_type": "code",
      "metadata": {
        "id": "0l240GzrAJEY"
      },
      "source": [
        "def create_file(classifier_ctor, classifier_name):\n",
        "  virus_classifier = classifier_ctor(best_hyperparameter2['Virus_param'][classifier_name + \"(1)\"])  # use best_hyperparameter2 not best_hyperparameter!\n",
        "  virus_classifier.fit(final_train[att_col], final_train['Virus'])\n",
        "  spreadLevel_classifier = classifier_ctor(best_hyperparameter2['SpreadLevel_param'][classifier_name + \"(1)\"])\n",
        "  spreadLevel_classifier.fit(final_train[att_col], final_train['SpreadLevel'])\n",
        "  risk_classifier = classifier_ctor(best_hyperparameter2['Risk_param'][classifier_name + \"(1)\"])\n",
        "  risk_classifier.fit(final_train[att_col], final_train['Risk'])\n",
        "  id = virus_test['ID']\n",
        "  df = predict_per_target(virus_classifier, spreadLevel_classifier, risk_classifier, test_hw2, id)\n",
        "  return df\n"
      ],
      "execution_count": 65,
      "outputs": []
    },
    {
      "cell_type": "code",
      "metadata": {
        "id": "xF80uOq1AwbR",
        "colab": {
          "base_uri": "https://localhost:8080/"
        },
        "outputId": "e4195708-250a-4005-daaa-40c609756053"
      },
      "source": [
        "df_knn = create_file(KNeighborsClassifier, 'knn')\n",
        "df_dt = create_file(build_DecisionTreeClassifier, 'decision tree')\n",
        "df_svm = create_file(build_LinearSVC, 'svm')"
      ],
      "execution_count": 66,
      "outputs": [
        {
          "output_type": "stream",
          "text": [
            "/usr/local/lib/python3.7/dist-packages/sklearn/svm/_base.py:947: ConvergenceWarning: Liblinear failed to converge, increase the number of iterations.\n",
            "  \"the number of iterations.\", ConvergenceWarning)\n",
            "/usr/local/lib/python3.7/dist-packages/sklearn/svm/_base.py:947: ConvergenceWarning: Liblinear failed to converge, increase the number of iterations.\n",
            "  \"the number of iterations.\", ConvergenceWarning)\n",
            "/usr/local/lib/python3.7/dist-packages/sklearn/svm/_base.py:947: ConvergenceWarning: Liblinear failed to converge, increase the number of iterations.\n",
            "  \"the number of iterations.\", ConvergenceWarning)\n"
          ],
          "name": "stderr"
        }
      ]
    },
    {
      "cell_type": "code",
      "metadata": {
        "id": "WTCg2LPMEVbo"
      },
      "source": [
        "def download_file(df, name):\n",
        "  df.to_csv(name, index=False)\n",
        "  files.download(name)"
      ],
      "execution_count": 67,
      "outputs": []
    },
    {
      "cell_type": "code",
      "metadata": {
        "id": "TYGfmMhZEk3h",
        "colab": {
          "base_uri": "https://localhost:8080/",
          "height": 17
        },
        "outputId": "fd686329-91b1-4e62-e276-c7093fa5de58"
      },
      "source": [
        "download_file(df_dt, 'pred_decision_tree.csv')\n",
        "download_file(df_knn, 'pred_knn.csv')\n",
        "download_file(df_svm, 'pred_svm.csv')"
      ],
      "execution_count": 68,
      "outputs": [
        {
          "output_type": "display_data",
          "data": {
            "application/javascript": [
              "\n",
              "    async function download(id, filename, size) {\n",
              "      if (!google.colab.kernel.accessAllowed) {\n",
              "        return;\n",
              "      }\n",
              "      const div = document.createElement('div');\n",
              "      const label = document.createElement('label');\n",
              "      label.textContent = `Downloading \"${filename}\": `;\n",
              "      div.appendChild(label);\n",
              "      const progress = document.createElement('progress');\n",
              "      progress.max = size;\n",
              "      div.appendChild(progress);\n",
              "      document.body.appendChild(div);\n",
              "\n",
              "      const buffers = [];\n",
              "      let downloaded = 0;\n",
              "\n",
              "      const channel = await google.colab.kernel.comms.open(id);\n",
              "      // Send a message to notify the kernel that we're ready.\n",
              "      channel.send({})\n",
              "\n",
              "      for await (const message of channel.messages) {\n",
              "        // Send a message to notify the kernel that we're ready.\n",
              "        channel.send({})\n",
              "        if (message.buffers) {\n",
              "          for (const buffer of message.buffers) {\n",
              "            buffers.push(buffer);\n",
              "            downloaded += buffer.byteLength;\n",
              "            progress.value = downloaded;\n",
              "          }\n",
              "        }\n",
              "      }\n",
              "      const blob = new Blob(buffers, {type: 'application/binary'});\n",
              "      const a = document.createElement('a');\n",
              "      a.href = window.URL.createObjectURL(blob);\n",
              "      a.download = filename;\n",
              "      div.appendChild(a);\n",
              "      a.click();\n",
              "      div.remove();\n",
              "    }\n",
              "  "
            ],
            "text/plain": [
              "<IPython.core.display.Javascript object>"
            ]
          },
          "metadata": {
            "tags": []
          }
        },
        {
          "output_type": "display_data",
          "data": {
            "application/javascript": [
              "download(\"download_befbaf79-5080-4ed0-a075-0b5cd16e0014\", \"pred_decision_tree.csv\", 13691)"
            ],
            "text/plain": [
              "<IPython.core.display.Javascript object>"
            ]
          },
          "metadata": {
            "tags": []
          }
        },
        {
          "output_type": "display_data",
          "data": {
            "application/javascript": [
              "\n",
              "    async function download(id, filename, size) {\n",
              "      if (!google.colab.kernel.accessAllowed) {\n",
              "        return;\n",
              "      }\n",
              "      const div = document.createElement('div');\n",
              "      const label = document.createElement('label');\n",
              "      label.textContent = `Downloading \"${filename}\": `;\n",
              "      div.appendChild(label);\n",
              "      const progress = document.createElement('progress');\n",
              "      progress.max = size;\n",
              "      div.appendChild(progress);\n",
              "      document.body.appendChild(div);\n",
              "\n",
              "      const buffers = [];\n",
              "      let downloaded = 0;\n",
              "\n",
              "      const channel = await google.colab.kernel.comms.open(id);\n",
              "      // Send a message to notify the kernel that we're ready.\n",
              "      channel.send({})\n",
              "\n",
              "      for await (const message of channel.messages) {\n",
              "        // Send a message to notify the kernel that we're ready.\n",
              "        channel.send({})\n",
              "        if (message.buffers) {\n",
              "          for (const buffer of message.buffers) {\n",
              "            buffers.push(buffer);\n",
              "            downloaded += buffer.byteLength;\n",
              "            progress.value = downloaded;\n",
              "          }\n",
              "        }\n",
              "      }\n",
              "      const blob = new Blob(buffers, {type: 'application/binary'});\n",
              "      const a = document.createElement('a');\n",
              "      a.href = window.URL.createObjectURL(blob);\n",
              "      a.download = filename;\n",
              "      div.appendChild(a);\n",
              "      a.click();\n",
              "      div.remove();\n",
              "    }\n",
              "  "
            ],
            "text/plain": [
              "<IPython.core.display.Javascript object>"
            ]
          },
          "metadata": {
            "tags": []
          }
        },
        {
          "output_type": "display_data",
          "data": {
            "application/javascript": [
              "download(\"download_34f40016-33db-43f6-bc78-16fec1e2d4b8\", \"pred_knn.csv\", 13924)"
            ],
            "text/plain": [
              "<IPython.core.display.Javascript object>"
            ]
          },
          "metadata": {
            "tags": []
          }
        },
        {
          "output_type": "display_data",
          "data": {
            "application/javascript": [
              "\n",
              "    async function download(id, filename, size) {\n",
              "      if (!google.colab.kernel.accessAllowed) {\n",
              "        return;\n",
              "      }\n",
              "      const div = document.createElement('div');\n",
              "      const label = document.createElement('label');\n",
              "      label.textContent = `Downloading \"${filename}\": `;\n",
              "      div.appendChild(label);\n",
              "      const progress = document.createElement('progress');\n",
              "      progress.max = size;\n",
              "      div.appendChild(progress);\n",
              "      document.body.appendChild(div);\n",
              "\n",
              "      const buffers = [];\n",
              "      let downloaded = 0;\n",
              "\n",
              "      const channel = await google.colab.kernel.comms.open(id);\n",
              "      // Send a message to notify the kernel that we're ready.\n",
              "      channel.send({})\n",
              "\n",
              "      for await (const message of channel.messages) {\n",
              "        // Send a message to notify the kernel that we're ready.\n",
              "        channel.send({})\n",
              "        if (message.buffers) {\n",
              "          for (const buffer of message.buffers) {\n",
              "            buffers.push(buffer);\n",
              "            downloaded += buffer.byteLength;\n",
              "            progress.value = downloaded;\n",
              "          }\n",
              "        }\n",
              "      }\n",
              "      const blob = new Blob(buffers, {type: 'application/binary'});\n",
              "      const a = document.createElement('a');\n",
              "      a.href = window.URL.createObjectURL(blob);\n",
              "      a.download = filename;\n",
              "      div.appendChild(a);\n",
              "      a.click();\n",
              "      div.remove();\n",
              "    }\n",
              "  "
            ],
            "text/plain": [
              "<IPython.core.display.Javascript object>"
            ]
          },
          "metadata": {
            "tags": []
          }
        },
        {
          "output_type": "display_data",
          "data": {
            "application/javascript": [
              "download(\"download_c7815167-031b-4299-a56b-02bcf799751d\", \"pred_svm.csv\", 13905)"
            ],
            "text/plain": [
              "<IPython.core.display.Javascript object>"
            ]
          },
          "metadata": {
            "tags": []
          }
        }
      ]
    },
    {
      "cell_type": "code",
      "metadata": {
        "id": "74yV5NdUzbDj",
        "colab": {
          "base_uri": "https://localhost:8080/"
        },
        "outputId": "707d3a99-3c22-4334-e5a7-0ca2f6081303"
      },
      "source": [
        "print(\"DONE\")"
      ],
      "execution_count": 69,
      "outputs": [
        {
          "output_type": "stream",
          "text": [
            "DONE\n"
          ],
          "name": "stdout"
        }
      ]
    }
  ]
}